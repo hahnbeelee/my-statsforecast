{
 "cells": [
  {
   "cell_type": "code",
   "execution_count": null,
   "id": "b71b715b-f827-4b81-a687-55c4103916d1",
   "metadata": {},
   "outputs": [],
   "source": [
    "import numpy as np\n",
    "import pandas as pd\n",
    "import matplotlib.pyplot as plt"
   ]
  },
  {
   "cell_type": "code",
   "execution_count": null,
   "id": "2f99e63a-deda-41db-b42f-1b21e8cf0775",
   "metadata": {},
   "outputs": [],
   "source": [
    "n_ts = [10_000, 100_000, 1_000_000, 5_000_000, 10_000_000]\n",
    "times = [pd.read_csv(f'../results/time_{size}.csv').drop(labels='Unnamed: 0', axis=1) for size in n_ts]\n",
    "times = pd.concat(times)\n",
    "times = times[['length', 'time', 'cpus']]\n",
    "times['Cost (Dollars)'] = times['time'] * 26.688 / 60"
   ]
  },
  {
   "cell_type": "code",
   "execution_count": null,
   "id": "55b8a253-7663-484f-b64c-3287a66540ad",
   "metadata": {},
   "outputs": [],
   "source": [
    "evaluation = []\n",
    "for size in n_ts:\n",
    "    fcast = pd.read_parquet(f'../results/forecasts_{size}.parquet')\n",
    "    models = fcast.drop(labels=['ds', 'cutoff', 'y'], axis=1).columns\n",
    "    eval_models = {}\n",
    "    for model in models:\n",
    "        mse = (fcast['y'] - fcast[model]) ** 2\n",
    "        eval_models[model] = np.mean(mse)\n",
    "    eval_models['length'] = size\n",
    "    eval_models['n_windows'] = np.unique(fcast.groupby(['unique_id', 'cutoff']).size())\n",
    "    evaluation.append(pd.DataFrame(eval_models, index=[0]))\n",
    "evaluation = pd.concat(evaluation).reset_index(drop=True)"
   ]
  },
  {
   "cell_type": "code",
   "execution_count": null,
   "id": "ceb35f36-7d5e-4ecb-a458-d9703cdbad07",
   "metadata": {},
   "outputs": [],
   "source": [
    "evaluation = evaluation.rename(columns = {\n",
    "    'croston_classic': 'Croston',\n",
    "    'seasonal_naive_season_length-7': 'SeasNaive',\n",
    "    'naive': 'Naive',\n",
    "    'adida': 'ADIDA',\n",
    "    'historic_average': 'HistoricAverage',\n",
    "    'seasonal_window_average_season_length-7_window_size-4': 'SeasWindowAverage',\n",
    "    'imapa': 'iMAPA',\n",
    "    'window_average_window_size-7': 'WindowAverage',\n",
    "    'seasonal_exponential_smoothing_season_length-7_alpha-0.9': 'SeasExpSmooth',\n",
    "    'n_windows': 'CVWindows'\n",
    "})"
   ]
  },
  {
   "cell_type": "code",
   "execution_count": null,
   "id": "c8df23a8-9177-41cf-af7e-d528cc68d5d8",
   "metadata": {},
   "outputs": [],
   "source": [
    "results = times.merge(evaluation, how='left', on=['length'])"
   ]
  },
  {
   "cell_type": "code",
   "execution_count": null,
   "id": "3699128d-5e08-4ecb-ba2d-c710f18bed01",
   "metadata": {},
   "outputs": [],
   "source": [
    "results = results.rename(columns={\n",
    "    'length': 'N time series',\n",
    "    'time': 'Time (mins)',\n",
    "    'cpus': 'N cpus'\n",
    "\n",
    "})"
   ]
  },
  {
   "cell_type": "code",
   "execution_count": null,
   "id": "29f8e1cd-9f69-4bc1-8bb0-327d3e00def0",
   "metadata": {},
   "outputs": [],
   "source": [
    "model_cols = [\n",
    "    'Croston', 'SeasNaive', 'Naive', 'ADIDA',\n",
    "    'HistoricAverage', 'SeasWindowAverage', 'iMAPA', 'WindowAverage',\n",
    "    'SeasExpSmooth'\n",
    "]\n",
    "extra_cols = [\n",
    "    'N time series', 'Time (mins)', \n",
    "    'N cpus', 'CVWindows', 'Cost (Dollars)'\n",
    "]"
   ]
  },
  {
   "cell_type": "code",
   "execution_count": null,
   "id": "787f7fb5-fe5f-4712-958f-77b689096365",
   "metadata": {},
   "outputs": [],
   "source": [
    "results[model_cols] = results[model_cols].applymap('{:.4f}'.format)"
   ]
  },
  {
   "cell_type": "code",
   "execution_count": null,
   "id": "e37a7950-d924-4889-bb55-2900144405bd",
   "metadata": {},
   "outputs": [],
   "source": [
    "results[['Time (mins)', 'CVWindows']] = results[['Time (mins)', 'CVWindows']].applymap('{:.2f}'.format)"
   ]
  },
  {
   "cell_type": "code",
   "execution_count": null,
   "id": "c40a7a18-f3db-42f9-961b-7cc299f0636c",
   "metadata": {},
   "outputs": [],
   "source": [
    "results['N time series'] = results['N time series'].apply('{:,}'.format) "
   ]
  },
  {
   "cell_type": "code",
   "execution_count": null,
   "id": "e8f0b2ed-29f3-454f-a354-e212871e036c",
   "metadata": {},
   "outputs": [],
   "source": [
    "results['Cost (Dollars)'] = results['Cost (Dollars)'].apply('${:.2f}'.format)"
   ]
  },
  {
   "cell_type": "code",
   "execution_count": null,
   "id": "013abb28-31b6-4a78-b5e0-1777973fd28c",
   "metadata": {},
   "outputs": [],
   "source": [
    "results = results[extra_cols + model_cols]"
   ]
  },
  {
   "cell_type": "code",
   "execution_count": null,
   "id": "6db75353-071a-4220-927a-cb25681cf225",
   "metadata": {},
   "outputs": [],
   "source": [
    "print(results[extra_cols].to_markdown(index=False))"
   ]
  },
  {
   "cell_type": "code",
   "execution_count": null,
   "id": "72cfb116-b438-416b-9bba-0549d8d79054",
   "metadata": {},
   "outputs": [],
   "source": [
    "print(results[['N time series'] + model_cols].to_markdown(index=False))"
   ]
  },
  {
   "cell_type": "code",
   "execution_count": null,
   "id": "a4392cf5-8ba3-4ee1-bce9-980b9a3ce891",
   "metadata": {},
   "outputs": [],
   "source": []
  }
 ],
 "metadata": {
  "kernelspec": {
   "display_name": "Python 3 (ipykernel)",
   "language": "python",
   "name": "python3"
  },
  "language_info": {
   "codemirror_mode": {
    "name": "ipython",
    "version": 3
   },
   "file_extension": ".py",
   "mimetype": "text/x-python",
   "name": "python",
   "nbconvert_exporter": "python",
   "pygments_lexer": "ipython3",
   "version": "3.9.13"
  }
 },
 "nbformat": 4,
 "nbformat_minor": 5
}

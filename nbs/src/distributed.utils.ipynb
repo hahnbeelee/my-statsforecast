{
 "cells": [
  {
   "cell_type": "code",
   "execution_count": null,
   "id": "524620c1",
   "metadata": {},
   "outputs": [],
   "source": [
    "#| default_exp distributed.utils"
   ]
  },
  {
   "cell_type": "code",
   "execution_count": null,
   "id": "15392f6f",
   "metadata": {},
   "outputs": [],
   "source": [
    "#| hide\n",
    "%load_ext autoreload\n",
    "%autoreload 2"
   ]
  },
  {
   "cell_type": "markdown",
   "id": "12fa25a4",
   "metadata": {},
   "source": [
    "# Distributed utils"
   ]
  },
  {
   "cell_type": "code",
   "execution_count": null,
   "id": "06732b96-bd80-4a4d-b9a2-4f95c7a82331",
   "metadata": {},
   "outputs": [],
   "source": [
    "#| hide\n",
    "from fastcore.test import test_eq"
   ]
  },
  {
   "cell_type": "code",
   "execution_count": null,
   "id": "bc16100a",
   "metadata": {},
   "outputs": [],
   "source": [
    "#| export\n",
    "from typing import Optional\n",
    "\n",
    "from statsforecast.core import ParallelBackend"
   ]
  },
  {
   "cell_type": "code",
   "execution_count": null,
   "id": "c512fe7d-b414-4789-b34d-01b0e3486855",
   "metadata": {},
   "outputs": [],
   "source": [
    "#| export\n",
    "def forecast(\n",
    "    df,\n",
    "    models,\n",
    "    freq,\n",
    "    h,\n",
    "    fallback_model=None,\n",
    "    X_df=None,\n",
    "    level=None,\n",
    "    parallel: Optional[\"ParallelBackend\"] = None,\n",
    "):\n",
    "    backend = parallel if parallel is not None else ParallelBackend()\n",
    "    return backend.forecast(df, models, freq, fallback_model, h=h, X_df=X_df, level=level)"
   ]
  },
  {
   "cell_type": "code",
   "execution_count": null,
   "id": "33ce9e2b-6629-49ad-b130-102378f15a98",
   "metadata": {},
   "outputs": [],
   "source": [
    "#| export\n",
    "def cross_validation(\n",
    "    df,\n",
    "    models,\n",
    "    freq,\n",
    "    h,\n",
    "    n_windows=1,\n",
    "    step_size=1,\n",
    "    test_size=None,\n",
    "    input_size=None,\n",
    "    parallel: Optional[\"ParallelBackend\"] = None,\n",
    "):\n",
    "    backend = parallel if parallel is not None else ParallelBackend()\n",
    "    return backend.cross_validation(\n",
    "        df,\n",
    "        models,\n",
    "        freq,\n",
    "        h=h,\n",
    "        n_windows=n_windows,\n",
    "        step_size=step_size,\n",
    "        test_size=test_size,\n",
    "        input_size=input_size,\n",
    "    )"
   ]
  },
  {
   "cell_type": "code",
   "execution_count": null,
   "id": "53a39c59-8bc1-4cf4-b696-29204b3a144d",
   "metadata": {},
   "outputs": [],
   "source": [
    "#| hide\n",
    "#| eval: false\n",
    "from statsforecast.core import StatsForecast\n",
    "from statsforecast.distributed.fugue import FugueBackend\n",
    "from statsforecast.models import Naive\n",
    "from statsforecast.utils import generate_series"
   ]
  },
  {
   "cell_type": "code",
   "execution_count": null,
   "id": "4c6626cc-0701-4b96-a56f-ff73f6c94259",
   "metadata": {},
   "outputs": [],
   "source": [
    "#| hide\n",
    "#| eval: false\n",
    "df = generate_series(10).reset_index()\n",
    "df['unique_id'] = df['unique_id'].astype(str)\n",
    "\n",
    "backend = FugueBackend()\n",
    "#forecast\n",
    "fcst_fugue = forecast(df, models=[Naive()], freq='D', h=12, parallel=backend)\n",
    "fcst_stats = StatsForecast(models=[Naive()], freq='D').forecast(df=df, h=12)\n",
    "test_eq(fcst_fugue, fcst_stats.reset_index())\n",
    "#cross validation\n",
    "fcst_fugue = cross_validation(df, models=[Naive()], freq='D', h=12, parallel=backend)\n",
    "fcst_stats = StatsForecast(models=[Naive()], freq='D').cross_validation(df=df, h=12)\n",
    "test_eq(fcst_fugue, fcst_stats.reset_index())\n",
    "# fallback model\n",
    "class FailNaive:\n",
    "    def forecast(self):\n",
    "        pass\n",
    "    def __repr__(self):\n",
    "        return 'Naive'\n",
    "fcst = backend.forecast(df, models=[FailNaive()], freq='D', fallback_model=Naive(), h=12)\n",
    "fcst_stats = StatsForecast(models=[Naive()], freq='D').forecast(df=df, h=12)\n",
    "test_eq(fcst, fcst_stats.reset_index())"
   ]
  }
 ],
 "metadata": {
  "kernelspec": {
   "display_name": "python3",
   "language": "python",
   "name": "python3"
  }
 },
 "nbformat": 4,
 "nbformat_minor": 5
}
